{
 "cells": [
  {
   "cell_type": "code",
   "execution_count": null,
   "metadata": {},
   "outputs": [],
   "source": [
    "# Exploratory Data Analysis\n",
    "\n",
    "## Import Libraries\n",
    "```python\n",
    "import pandas as pd\n",
    "import matplotlib.pyplot as plt\n",
    "```\n",
    "\n",
    "## Load Data\n",
    "```python\n",
    "data = pd.read_csv(\"../data/processed_stock_data.csv\")\n",
    "data.head()\n",
    "```\n",
    "\n",
    "## \n",
    "```python\n",
    "plt.plot(data['date'], data['close'])\n",
    "plt.title(\"Stock Price Over Time\")\n",
    "plt.xlabel(\"Date\")\n",
    "plt.ylabel(\"Close Price\")\n",
    "plt.show()\n",
    "```"
   ]
  }
 ],
 "metadata": {
  "language_info": {
   "name": "python"
  }
 },
 "nbformat": 4,
 "nbformat_minor": 2
}
